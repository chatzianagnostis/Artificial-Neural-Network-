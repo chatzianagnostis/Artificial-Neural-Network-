{
 "cells": [
  {
   "cell_type": "markdown",
   "id": "352e0ba2",
   "metadata": {},
   "source": [
    "Word is here : https://aristotleuniversity-my.sharepoint.com/:w:/g/personal/evangepc_office365_auth_gr/EX_IdIpQqSZLk8HexlrctRoBtt2TgEonNvY6EFAd1cB5TA?e=JfXmTE"
   ]
  },
  {
   "cell_type": "code",
   "execution_count": 1,
   "id": "29ee3d74",
   "metadata": {},
   "outputs": [],
   "source": [
    "%matplotlib inline\n",
    "import matplotlib.pyplot as plt\n",
    "\n",
    "import tensorflow as tf\n",
    "from tensorflow import keras\n",
    "from keras import datasets\n",
    "\n",
    "import time\n",
    "import numpy as np\n",
    "\n",
    "from sklearn import svm\n",
    "from sklearn import neighbors\n",
    "from sklearn import metrics"
   ]
  },
  {
   "cell_type": "markdown",
   "id": "08bebf3a",
   "metadata": {},
   "source": [
    "Load the dataset mnist from keras datasets library"
   ]
  },
  {
   "cell_type": "code",
   "execution_count": 2,
   "id": "f358f741",
   "metadata": {},
   "outputs": [],
   "source": [
    "mnist = tf.keras.datasets.mnist\n",
    "(x_train, y_train),(x_test, y_test) = mnist.load_data()"
   ]
  },
  {
   "cell_type": "markdown",
   "id": "4a20053d",
   "metadata": {},
   "source": [
    "Recreate the dataset "
   ]
  },
  {
   "cell_type": "code",
   "execution_count": 3,
   "id": "c14208f7",
   "metadata": {},
   "outputs": [],
   "source": [
    "y_train = y_train.astype('int32')\n",
    "y_test = y_test.astype('int32')\n",
    "\n",
    "for i in range (60000):\n",
    "    if y_train[i]%2 == 0 :\n",
    "        y_train[i] = -1\n",
    "    else:\n",
    "        y_train[i] = 1\n",
    "    if i<10000:\n",
    "        if y_test[i]%2 == 0 :\n",
    "            y_test[i] = -1\n",
    "        else:\n",
    "            y_test[i] = 1"
   ]
  },
  {
   "cell_type": "markdown",
   "id": "84816a6b",
   "metadata": {},
   "source": [
    "Visualise the data"
   ]
  },
  {
   "cell_type": "code",
   "execution_count": 4,
   "id": "a5ae37ac",
   "metadata": {
    "scrolled": false
   },
   "outputs": [
    {
     "data": {
      "image/png": "[encoded data removed]",
      "text/plain": [
       "<Figure size 432x288 with 1 Axes>"
      ]
     },
     "metadata": {
      "needs_background": "light"
     },
     "output_type": "display_data"
    }
   ],
   "source": [
    "plt.imshow(x_train[1])\n",
    "plt.show()"
   ]
  },
  {
   "cell_type": "markdown",
   "id": "a2c06c8f",
   "metadata": {},
   "source": [
    "Normalize the data"
   ]
  },
  {
   "cell_type": "code",
   "execution_count": 5,
   "id": "ba4889cf",
   "metadata": {
    "scrolled": true
   },
   "outputs": [
    {
     "data": {
      "text/plain": [
       "TensorShape([10000, 784])"
      ]
     },
     "execution_count": 5,
     "metadata": {},
     "output_type": "execute_result"
    }
   ],
   "source": [
    "x_train.shape\n",
    "x_train = tf.reshape(x_train/255, [60000,-1])\n",
    "x_test =  tf.reshape(x_test/255, [10000,-1])\n",
    "x_test.shape"
   ]
  },
  {
   "cell_type": "markdown",
   "id": "7c6c9ef1",
   "metadata": {},
   "source": [
    "Run KNeighborsClassifier from sklearn library"
   ]
  },
  {
   "cell_type": "markdown",
   "id": "03c7a617",
   "metadata": {},
   "source": [
    "K = 1"
   ]
  },
  {
   "cell_type": "code",
   "execution_count": 6,
   "id": "e86e0bab",
   "metadata": {},
   "outputs": [
    {
     "data": {
      "text/plain": [
       "0.9838"
      ]
     },
     "execution_count": 6,
     "metadata": {},
     "output_type": "execute_result"
    }
   ],
   "source": [
    "clf = neighbors.KNeighborsClassifier(1).fit(x_train,  y_train)\n",
    "y_pred = clf.predict(x_test)  #Predict the class labels for the provided data.\n",
    "metrics.accuracy_score(y_test, y_pred)"
   ]
  },
  {
   "cell_type": "markdown",
   "id": "c24ed7ff",
   "metadata": {},
   "source": [
    "K = 3"
   ]
  },
  {
   "cell_type": "code",
   "execution_count": 7,
   "id": "ba6b861c",
   "metadata": {},
   "outputs": [
    {
     "data": {
      "text/plain": [
       "0.9852"
      ]
     },
     "execution_count": 7,
     "metadata": {},
     "output_type": "execute_result"
    }
   ],
   "source": [
    "clf = neighbors.KNeighborsClassifier(3).fit(x_train,  y_train)\n",
    "y_pred = clf.predict(x_test)\n",
    "metrics.accuracy_score(y_test, y_pred)"
   ]
  },
  {
   "cell_type": "code",
   "execution_count": 9,
   "id": "c40e31ec",
   "metadata": {},
   "outputs": [
    {
     "name": "stdout",
     "output_type": "stream",
     "text": [
      "[LibSVM]"
     ]
    },
    {
     "data": {
      "text/plain": [
       "'187.18227529525757 s'"
      ]
     },
     "execution_count": 9,
     "metadata": {},
     "output_type": "execute_result"
    }
   ],
   "source": [
    "start = time.time()\n",
    "clf = svm.SVC(C = 1.5, kernel='poly', degree=4 ,gamma='scale',cache_size=1000, verbose=True)\n",
    "clf.fit(x_train, y_train)\n",
    "end = time.time()\n",
    "str(end - start)+\" s\""
   ]
  },
  {
   "cell_type": "code",
   "execution_count": 10,
   "id": "de50ceb7",
   "metadata": {},
   "outputs": [
    {
     "data": {
      "text/plain": [
       "'22.355586051940918 s'"
      ]
     },
     "execution_count": 10,
     "metadata": {},
     "output_type": "execute_result"
    }
   ],
   "source": [
    "start = time.time()\n",
    "y_pred = clf.predict(x_test)\n",
    "end = time.time()\n",
    "str(end - start)+\" s\""
   ]
  },
  {
   "cell_type": "code",
   "execution_count": 11,
   "id": "c90cdf6a",
   "metadata": {},
   "outputs": [
    {
     "data": {
      "text/plain": [
       "0.985"
      ]
     },
     "execution_count": 11,
     "metadata": {},
     "output_type": "execute_result"
    }
   ],
   "source": [
    "metrics.accuracy_score(y_test, y_pred)"
   ]
  },
  {
   "cell_type": "code",
   "execution_count": 12,
   "id": "98a285c0",
   "metadata": {},
   "outputs": [
    {
     "data": {
      "text/plain": [
       "0.9823667711598746"
      ]
     },
     "execution_count": 12,
     "metadata": {},
     "output_type": "execute_result"
    }
   ],
   "source": [
    "metrics.precision_score(y_test, y_pred)"
   ]
  },
  {
   "cell_type": "code",
   "execution_count": 13,
   "id": "36afde66",
   "metadata": {
    "scrolled": true
   },
   "outputs": [
    {
     "data": {
      "text/plain": [
       "0.9881750098541584"
      ]
     },
     "execution_count": 13,
     "metadata": {},
     "output_type": "execute_result"
    }
   ],
   "source": [
    "metrics.recall_score(y_test, y_pred)"
   ]
  }
 ],
 "metadata": {
  "kernelspec": {
   "display_name": "Python 3",
   "language": "python",
   "name": "python3"
  },
  "language_info": {
   "codemirror_mode": {
    "name": "ipython",
    "version": 3
   },
   "file_extension": ".py",
   "mimetype": "text/x-python",
   "name": "python",
   "nbconvert_exporter": "python",
   "pygments_lexer": "ipython3",
   "version": "3.8.8"
  }
 },
 "nbformat": 4,
 "nbformat_minor": 5
}
