{
 "cells": [
  {
   "cell_type": "code",
   "execution_count": 1,
   "id": "64aba3e0",
   "metadata": {},
   "outputs": [],
   "source": [
    "%matplotlib inline\n",
    "import matplotlib.pyplot as plt\n",
    "\n",
    "import tensorflow as tf\n",
    "from tensorflow import keras\n",
    "from keras import datasets\n",
    "\n",
    "import numpy as np"
   ]
  },
  {
   "cell_type": "markdown",
   "id": "a921d34f",
   "metadata": {},
   "source": [
    "Load the dataset mnist from keras datasets library"
   ]
  },
  {
   "cell_type": "code",
   "execution_count": 2,
   "id": "36a9efc3",
   "metadata": {
    "scrolled": true
   },
   "outputs": [],
   "source": [
    "data = tf.keras.datasets.fashion_mnist\n",
    "(x_train, y_train),(x_test, y_test) = data.load_data()"
   ]
  },
  {
   "cell_type": "markdown",
   "id": "71e57d86",
   "metadata": {},
   "source": [
    "Visualise the data"
   ]
  },
  {
   "cell_type": "code",
   "execution_count": 3,
   "id": "d952bfa8",
   "metadata": {
    "scrolled": true
   },
   "outputs": [
    {
     "data": {
      "image/png": "[encoded data removed]",
      "text/plain": [
       "<Figure size 432x288 with 1 Axes>"
      ]
     },
     "metadata": {
      "needs_background": "light"
     },
     "output_type": "display_data"
    }
   ],
   "source": [
    "plt.imshow(x_train[0], cmap='gray')\n",
    "plt.show()"
   ]
  },
  {
   "cell_type": "markdown",
   "id": "78495aec",
   "metadata": {},
   "source": [
    "Normalize the data "
   ]
  },
  {
   "cell_type": "code",
   "execution_count": 4,
   "id": "3e00b2a8",
   "metadata": {
    "scrolled": false
   },
   "outputs": [],
   "source": [
    "x_train= x_train/255.0\n",
    "x_test= x_test/255.0"
   ]
  },
  {
   "cell_type": "markdown",
   "id": "7ca68768",
   "metadata": {},
   "source": [
    "Create the encoder:"
   ]
  },
  {
   "cell_type": "code",
   "execution_count": 5,
   "id": "3a4c94db",
   "metadata": {},
   "outputs": [],
   "source": [
    "encoder_input = keras.Input(shape=(28,28,1), name='original')\n",
    "x = keras.layers.Flatten()(encoder_input)\n",
    "encoder_output = keras.layers.Dense(64, activation='relu')(x)\n",
    "\n",
    "encoder = keras.Model(encoder_input, encoder_output, name='encoder')"
   ]
  },
  {
   "cell_type": "markdown",
   "id": "05d9fee6",
   "metadata": {},
   "source": [
    "Create the decoder:"
   ]
  },
  {
   "cell_type": "code",
   "execution_count": 11,
   "id": "830e16f7",
   "metadata": {},
   "outputs": [],
   "source": [
    "decoder_input = keras.layers.Dense(64, activation='sigmoid')(encoder_output)\n",
    "x = keras.layers.Dense(784, activation='sigmoid')(decoder_input)\n",
    "decoder_output = keras.layers.Reshape((28, 28, 1))(x)\n",
    "\n",
    "decoder = keras.Model(decoder_input, decoder_output, name='decoder')"
   ]
  },
  {
   "cell_type": "markdown",
   "id": "406cb9ce",
   "metadata": {},
   "source": [
    "Create the autoencoder:"
   ]
  },
  {
   "cell_type": "code",
   "execution_count": 12,
   "id": "aac0980e",
   "metadata": {
    "scrolled": true
   },
   "outputs": [
    {
     "name": "stdout",
     "output_type": "stream",
     "text": [
      "Model: \"autoencoder\"\n",
      "_________________________________________________________________\n",
      " Layer (type)                Output Shape              Param #   \n",
      "=================================================================\n",
      " original (InputLayer)       [(None, 28, 28, 1)]       0         \n",
      "                                                                 \n",
      " flatten (Flatten)           (None, 784)               0         \n",
      "                                                                 \n",
      " dense (Dense)               (None, 64)                50240     \n",
      "                                                                 \n",
      " dense_3 (Dense)             (None, 64)                4160      \n",
      "                                                                 \n",
      " dense_4 (Dense)             (None, 784)               50960     \n",
      "                                                                 \n",
      " reshape_1 (Reshape)         (None, 28, 28, 1)         0         \n",
      "                                                                 \n",
      "=================================================================\n",
      "Total params: 105,360\n",
      "Trainable params: 105,360\n",
      "Non-trainable params: 0\n",
      "_________________________________________________________________\n"
     ]
    }
   ],
   "source": [
    "autoencoder = keras.Model(encoder_input, decoder_output, name = 'autoencoder')\n",
    "autoencoder.summary()"
   ]
  },
  {
   "cell_type": "code",
   "execution_count": 13,
   "id": "045a02e3",
   "metadata": {},
   "outputs": [
    {
     "name": "stdout",
     "output_type": "stream",
     "text": [
      "Epoch 1/25\n",
      "1875/1875 [==============================] - 3s 1ms/step - loss: 0.0377\n",
      "Epoch 2/25\n",
      "1875/1875 [==============================] - 3s 1ms/step - loss: 0.0211\n",
      "Epoch 3/25\n",
      "1875/1875 [==============================] - 3s 2ms/step - loss: 0.0174\n",
      "Epoch 4/25\n",
      "1875/1875 [==============================] - 3s 2ms/step - loss: 0.0151\n",
      "Epoch 5/25\n",
      "1875/1875 [==============================] - 3s 2ms/step - loss: 0.0137\n",
      "Epoch 6/25\n",
      "1875/1875 [==============================] - 3s 1ms/step - loss: 0.0128\n",
      "Epoch 7/25\n",
      "1875/1875 [==============================] - 3s 1ms/step - loss: 0.0122\n",
      "Epoch 8/25\n",
      "1875/1875 [==============================] - 3s 1ms/step - loss: 0.0118\n",
      "Epoch 9/25\n",
      "1875/1875 [==============================] - 3s 1ms/step - loss: 0.0115\n",
      "Epoch 10/25\n",
      "1875/1875 [==============================] - 3s 1ms/step - loss: 0.0112\n",
      "Epoch 11/25\n",
      "1875/1875 [==============================] - 3s 1ms/step - loss: 0.0110\n",
      "Epoch 12/25\n",
      "1875/1875 [==============================] - 3s 1ms/step - loss: 0.0109\n",
      "Epoch 13/25\n",
      "1875/1875 [==============================] - 3s 1ms/step - loss: 0.0107\n",
      "Epoch 14/25\n",
      "1875/1875 [==============================] - 3s 1ms/step - loss: 0.0106\n",
      "Epoch 15/25\n",
      "1875/1875 [==============================] - 3s 1ms/step - loss: 0.0106\n",
      "Epoch 16/25\n",
      "1875/1875 [==============================] - 3s 1ms/step - loss: 0.0105\n",
      "Epoch 17/25\n",
      "1875/1875 [==============================] - 3s 1ms/step - loss: 0.0104\n",
      "Epoch 18/25\n",
      "1875/1875 [==============================] - 3s 1ms/step - loss: 0.0104\n",
      "Epoch 19/25\n",
      "1875/1875 [==============================] - 3s 1ms/step - loss: 0.0103\n",
      "Epoch 20/25\n",
      "1875/1875 [==============================] - 3s 1ms/step - loss: 0.0103\n",
      "Epoch 21/25\n",
      "1875/1875 [==============================] - 3s 1ms/step - loss: 0.0102\n",
      "Epoch 22/25\n",
      "1875/1875 [==============================] - 3s 1ms/step - loss: 0.0102\n",
      "Epoch 23/25\n",
      "1875/1875 [==============================] - 3s 1ms/step - loss: 0.0102\n",
      "Epoch 24/25\n",
      "1875/1875 [==============================] - 3s 1ms/step - loss: 0.0101\n",
      "Epoch 25/25\n",
      "1875/1875 [==============================] - 3s 1ms/step - loss: 0.0101\n"
     ]
    },
    {
     "data": {
      "text/plain": [
       "<keras.callbacks.History at 0x20adb7dc9a0>"
      ]
     },
     "execution_count": 13,
     "metadata": {},
     "output_type": "execute_result"
    }
   ],
   "source": [
    "optimizer = keras.optimizers.Adam(learning_rate=0.001)\n",
    "loss ='mse'\n",
    "batch_size = 32\n",
    "epochs = 25\n",
    "\n",
    "autoencoder.compile(optimizer, loss)\n",
    "autoencoder.fit(x_train, x_train, epochs = epochs, batch_size= batch_size)"
   ]
  },
  {
   "cell_type": "code",
   "execution_count": 14,
   "id": "c7b5180b",
   "metadata": {
    "scrolled": true
   },
   "outputs": [
    {
     "data": {
      "image/png": "[encoded data removed]",
      "text/plain": [
       "<Figure size 432x288 with 1 Axes>"
      ]
     },
     "metadata": {
      "needs_background": "light"
     },
     "output_type": "display_data"
    }
   ],
   "source": [
    "example = encoder.predict([x_test[0].reshape(-1,28,28,1)])[0]\n",
    "plt.imshow(example.reshape((8,8)), cmap='gray')\n",
    "plt.show()"
   ]
  },
  {
   "cell_type": "code",
   "execution_count": 15,
   "id": "32c207e3",
   "metadata": {
    "scrolled": true
   },
   "outputs": [
    {
     "data": {
      "image/png": "[encoded data removed]",
      "text/plain": [
       "<Figure size 432x288 with 1 Axes>"
      ]
     },
     "metadata": {
      "needs_background": "light"
     },
     "output_type": "display_data"
    }
   ],
   "source": [
    "a = autoencoder.predict([x_test[0].reshape(-1,28,28,1)])[0]\n",
    "plt.imshow(a, cmap='gray')\n",
    "plt.show()"
   ]
  }
 ],
 "metadata": {
  "kernelspec": {
   "display_name": "Python 3",
   "language": "python",
   "name": "python3"
  },
  "language_info": {
   "codemirror_mode": {
    "name": "ipython",
    "version": 3
   },
   "file_extension": ".py",
   "mimetype": "text/x-python",
   "name": "python",
   "nbconvert_exporter": "python",
   "pygments_lexer": "ipython3",
   "version": "3.8.8"
  }
 },
 "nbformat": 4,
 "nbformat_minor": 5
}
