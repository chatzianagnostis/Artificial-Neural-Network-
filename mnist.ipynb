{
 "cells": [
  {
   "cell_type": "markdown",
   "id": "b5a709c5",
   "metadata": {},
   "source": [
    "Word is here : https://aristotleuniversity-my.sharepoint.com/:w:/g/personal/evangepc_office365_auth_gr/EUWFoaFu3fRErFQrheXT3ygBjCLoK6BL1Wb1o1UJTq3yjA?e=ReV2Sg"
   ]
  },
  {
   "cell_type": "code",
   "execution_count": 1,
   "id": "f91ab3dc",
   "metadata": {},
   "outputs": [],
   "source": [
    "%matplotlib inline\n",
    "import matplotlib.pyplot as plt\n",
    "\n",
    "import tensorflow as tf\n",
    "from tensorflow import keras\n",
    "from keras import datasets\n",
    "from tensorflow.keras import layers\n",
    "from tensorflow.keras.models import load_model\n",
    "import numpy\n",
    "from sklearn import neighbors, metrics"
   ]
  },
  {
   "cell_type": "markdown",
   "id": "47aa232e",
   "metadata": {},
   "source": [
    "Load the dataset mnist from keras datasets library"
   ]
  },
  {
   "cell_type": "code",
   "execution_count": 2,
   "id": "03fc3e21",
   "metadata": {},
   "outputs": [],
   "source": [
    "mnist = tf.keras.datasets.mnist\n",
    "(x_train, y_train),(x_test, y_test) = mnist.load_data()"
   ]
  },
  {
   "cell_type": "markdown",
   "id": "f1799171",
   "metadata": {},
   "source": [
    "Visualise the data"
   ]
  },
  {
   "cell_type": "code",
   "execution_count": 3,
   "id": "59a4ccea",
   "metadata": {
    "scrolled": true
   },
   "outputs": [
    {
     "data": {
      "image/png": "[encoded data removed]",
      "text/plain": [
       "<Figure size 432x288 with 1 Axes>"
      ]
     },
     "metadata": {
      "needs_background": "light"
     },
     "output_type": "display_data"
    }
   ],
   "source": [
    "plt.imshow(x_train[0])\n",
    "plt.show()"
   ]
  },
  {
   "cell_type": "markdown",
   "id": "480333f3",
   "metadata": {},
   "source": [
    "Normalize the data "
   ]
  },
  {
   "cell_type": "code",
   "execution_count": 4,
   "id": "5e6767bc",
   "metadata": {},
   "outputs": [
    {
     "data": {
      "text/plain": [
       "TensorShape([10000, 784])"
      ]
     },
     "execution_count": 4,
     "metadata": {},
     "output_type": "execute_result"
    }
   ],
   "source": [
    "x_train = tf.reshape(x_train/255, [60000,-1])\n",
    "x_test =  tf.reshape(x_test/255, [10000,-1])\n",
    "x_test.shape"
   ]
  },
  {
   "cell_type": "markdown",
   "id": "ee34c526",
   "metadata": {},
   "source": [
    "Run KNeighborsClassifier from sklearn library"
   ]
  },
  {
   "cell_type": "markdown",
   "id": "cad1f1b9",
   "metadata": {},
   "source": [
    "K = 1"
   ]
  },
  {
   "cell_type": "code",
   "execution_count": 5,
   "id": "2be06365",
   "metadata": {},
   "outputs": [
    {
     "data": {
      "text/plain": [
       "0.9691"
      ]
     },
     "execution_count": 5,
     "metadata": {},
     "output_type": "execute_result"
    }
   ],
   "source": [
    "clf = neighbors.KNeighborsClassifier(1).fit(x_train,  y_train)\n",
    "y_pred = clf.predict(x_test)  #Predict the class labels for the provided data.\n",
    "metrics.accuracy_score(y_test, y_pred)"
   ]
  },
  {
   "cell_type": "markdown",
   "id": "2556876f",
   "metadata": {},
   "source": [
    "K = 3"
   ]
  },
  {
   "cell_type": "code",
   "execution_count": 6,
   "id": "2ec06f53",
   "metadata": {},
   "outputs": [
    {
     "data": {
      "text/plain": [
       "0.9705"
      ]
     },
     "execution_count": 6,
     "metadata": {},
     "output_type": "execute_result"
    }
   ],
   "source": [
    "clf = neighbors.KNeighborsClassifier(3).fit(x_train,  y_train)\n",
    "y_pred = clf.predict(x_test)\n",
    "metrics.accuracy_score(y_test, y_pred)"
   ]
  },
  {
   "cell_type": "markdown",
   "id": "146858fe",
   "metadata": {},
   "source": [
    "Let's create the model :"
   ]
  },
  {
   "cell_type": "code",
   "execution_count": 7,
   "id": "664ded2f",
   "metadata": {},
   "outputs": [
    {
     "name": "stdout",
     "output_type": "stream",
     "text": [
      "Epoch 1/25\n",
      "1875/1875 - 4s - loss: 0.3960 - accuracy: 0.8943 - 4s/epoch - 2ms/step\n",
      "Epoch 2/25\n",
      "1875/1875 - 3s - loss: 0.1946 - accuracy: 0.9449 - 3s/epoch - 2ms/step\n",
      "Epoch 3/25\n",
      "1875/1875 - 3s - loss: 0.1459 - accuracy: 0.9587 - 3s/epoch - 2ms/step\n",
      "Epoch 4/25\n",
      "1875/1875 - 3s - loss: 0.1168 - accuracy: 0.9670 - 3s/epoch - 2ms/step\n",
      "Epoch 5/25\n",
      "1875/1875 - 3s - loss: 0.0963 - accuracy: 0.9721 - 3s/epoch - 2ms/step\n",
      "Epoch 6/25\n",
      "1875/1875 - 3s - loss: 0.0808 - accuracy: 0.9768 - 3s/epoch - 2ms/step\n",
      "Epoch 7/25\n",
      "1875/1875 - 3s - loss: 0.0689 - accuracy: 0.9808 - 3s/epoch - 2ms/step\n",
      "Epoch 8/25\n",
      "1875/1875 - 3s - loss: 0.0596 - accuracy: 0.9833 - 3s/epoch - 2ms/step\n",
      "Epoch 9/25\n",
      "1875/1875 - 3s - loss: 0.0516 - accuracy: 0.9858 - 3s/epoch - 2ms/step\n",
      "Epoch 10/25\n",
      "1875/1875 - 3s - loss: 0.0450 - accuracy: 0.9877 - 3s/epoch - 2ms/step\n",
      "Epoch 11/25\n",
      "1875/1875 - 3s - loss: 0.0395 - accuracy: 0.9893 - 3s/epoch - 2ms/step\n",
      "Epoch 12/25\n",
      "1875/1875 - 3s - loss: 0.0351 - accuracy: 0.9904 - 3s/epoch - 2ms/step\n",
      "Epoch 13/25\n",
      "1875/1875 - 3s - loss: 0.0305 - accuracy: 0.9919 - 3s/epoch - 2ms/step\n",
      "Epoch 14/25\n",
      "1875/1875 - 3s - loss: 0.0268 - accuracy: 0.9934 - 3s/epoch - 2ms/step\n",
      "Epoch 15/25\n",
      "1875/1875 - 3s - loss: 0.0239 - accuracy: 0.9943 - 3s/epoch - 2ms/step\n",
      "Epoch 16/25\n",
      "1875/1875 - 3s - loss: 0.0210 - accuracy: 0.9950 - 3s/epoch - 2ms/step\n",
      "Epoch 17/25\n",
      "1875/1875 - 3s - loss: 0.0184 - accuracy: 0.9961 - 3s/epoch - 2ms/step\n",
      "Epoch 18/25\n",
      "1875/1875 - 3s - loss: 0.0162 - accuracy: 0.9967 - 3s/epoch - 2ms/step\n",
      "Epoch 19/25\n",
      "1875/1875 - 3s - loss: 0.0143 - accuracy: 0.9970 - 3s/epoch - 2ms/step\n",
      "Epoch 20/25\n",
      "1875/1875 - 3s - loss: 0.0125 - accuracy: 0.9977 - 3s/epoch - 2ms/step\n",
      "Epoch 21/25\n",
      "1875/1875 - 3s - loss: 0.0111 - accuracy: 0.9981 - 3s/epoch - 2ms/step\n",
      "Epoch 22/25\n",
      "1875/1875 - 3s - loss: 0.0098 - accuracy: 0.9984 - 3s/epoch - 2ms/step\n",
      "Epoch 23/25\n",
      "1875/1875 - 3s - loss: 0.0083 - accuracy: 0.9987 - 3s/epoch - 2ms/step\n",
      "Epoch 24/25\n",
      "1875/1875 - 3s - loss: 0.0075 - accuracy: 0.9989 - 3s/epoch - 2ms/step\n",
      "Epoch 25/25\n",
      "1875/1875 - 3s - loss: 0.0063 - accuracy: 0.9993 - 3s/epoch - 2ms/step\n"
     ]
    }
   ],
   "source": [
    "batch_size = 32\n",
    "\n",
    "#Firstly need to create the architecture for my neural network\n",
    "model = tf.keras.Sequential()\n",
    "model.add(tf.keras.layers.Flatten())\n",
    "#model.add(tf.keras.layers.Dense(128, activation='tanh'))\n",
    "model.add(tf.keras.layers.Dense(128, activation='relu'))\n",
    "model.add(tf.keras.layers.Dense(10, activation='softmax'))\n",
    "\n",
    "#Secondly compile my model\n",
    "model.compile(\n",
    "    loss = 'sparse_categorical_crossentropy',\n",
    "    optimizer = keras.optimizers.Nadam(learning_rate = 0.0003),\n",
    "    metrics=[\"accuracy\"],\n",
    ")\n",
    "\n",
    "#With method fit my model start the training\n",
    "history = model.fit(x_train, y_train, batch_size = batch_size, epochs = 25, verbose = 2)"
   ]
  },
  {
   "cell_type": "markdown",
   "id": "451f00cd",
   "metadata": {},
   "source": [
    "Train accuracy :"
   ]
  },
  {
   "cell_type": "code",
   "execution_count": 8,
   "id": "bfc1a15f",
   "metadata": {
    "scrolled": true
   },
   "outputs": [
    {
     "name": "stdout",
     "output_type": "stream",
     "text": [
      "1875/1875 - 2s - loss: 0.0104 - accuracy: 0.9974 - 2s/epoch - 1ms/step\n"
     ]
    },
    {
     "data": {
      "text/plain": [
       "[0.010359188541769981, 0.9973666667938232]"
      ]
     },
     "execution_count": 8,
     "metadata": {},
     "output_type": "execute_result"
    }
   ],
   "source": [
    "model.evaluate(x_train, y_train, verbose = 2)"
   ]
  },
  {
   "cell_type": "markdown",
   "id": "49c55983",
   "metadata": {},
   "source": [
    "Test accuracy :"
   ]
  },
  {
   "cell_type": "code",
   "execution_count": 9,
   "id": "44db1d48",
   "metadata": {
    "scrolled": true
   },
   "outputs": [
    {
     "name": "stdout",
     "output_type": "stream",
     "text": [
      "313/313 - 1s - loss: 0.0934 - accuracy: 0.9762 - 713ms/epoch - 2ms/step\n"
     ]
    },
    {
     "data": {
      "text/plain": [
       "[0.0933929979801178, 0.9761999845504761]"
      ]
     },
     "execution_count": 9,
     "metadata": {},
     "output_type": "execute_result"
    }
   ],
   "source": [
    "model.evaluate(x_test, y_test, verbose = 2)"
   ]
  },
  {
   "cell_type": "code",
   "execution_count": 10,
   "id": "108bb89d",
   "metadata": {
    "scrolled": true
   },
   "outputs": [
    {
     "name": "stdout",
     "output_type": "stream",
     "text": [
      "Model: \"sequential\"\n",
      "_________________________________________________________________\n",
      " Layer (type)                Output Shape              Param #   \n",
      "=================================================================\n",
      " flatten (Flatten)           (None, 784)               0         \n",
      "                                                                 \n",
      " dense (Dense)               (None, 128)               100480    \n",
      "                                                                 \n",
      " dense_1 (Dense)             (None, 10)                1290      \n",
      "                                                                 \n",
      "=================================================================\n",
      "Total params: 101,770\n",
      "Trainable params: 101,770\n",
      "Non-trainable params: 0\n",
      "_________________________________________________________________\n"
     ]
    }
   ],
   "source": [
    "model.summary()"
   ]
  },
  {
   "cell_type": "code",
   "execution_count": 11,
   "id": "e943e228",
   "metadata": {
    "scrolled": true
   },
   "outputs": [
    {
     "data": {
      "text/plain": [
       "[<matplotlib.lines.Line2D at 0x1fb471b52e0>]"
      ]
     },
     "execution_count": 11,
     "metadata": {},
     "output_type": "execute_result"
    },
    {
     "data": {
      "image/png": "[encoded data removed]",
      "text/plain": [
       "<Figure size 432x288 with 1 Axes>"
      ]
     },
     "metadata": {
      "needs_background": "light"
     },
     "output_type": "display_data"
    }
   ],
   "source": [
    "plt.plot(history.history['loss'])"
   ]
  },
  {
   "cell_type": "code",
   "execution_count": 12,
   "id": "e6e0bd43",
   "metadata": {},
   "outputs": [
    {
     "data": {
      "text/plain": [
       "[<matplotlib.lines.Line2D at 0x1fb47215c10>]"
      ]
     },
     "execution_count": 12,
     "metadata": {},
     "output_type": "execute_result"
    },
    {
     "data": {
      "image/png": "[encoded data removed]",
      "text/plain": [
       "<Figure size 432x288 with 1 Axes>"
      ]
     },
     "metadata": {
      "needs_background": "light"
     },
     "output_type": "display_data"
    }
   ],
   "source": [
    "plt.plot(history.history['accuracy'])"
   ]
  }
 ],
 "metadata": {
  "kernelspec": {
   "display_name": "Python 3",
   "language": "python",
   "name": "python3"
  },
  "language_info": {
   "codemirror_mode": {
    "name": "ipython",
    "version": 3
   },
   "file_extension": ".py",
   "mimetype": "text/x-python",
   "name": "python",
   "nbconvert_exporter": "python",
   "pygments_lexer": "ipython3",
   "version": "3.8.8"
  }
 },
 "nbformat": 4,
 "nbformat_minor": 5
}
